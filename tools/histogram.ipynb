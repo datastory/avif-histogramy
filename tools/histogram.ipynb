{
 "cells": [
  {
   "cell_type": "code",
   "execution_count": null,
   "metadata": {},
   "outputs": [],
   "source": [
    "import pandas as pd\n",
    "import numpy as np\n",
    "import datetime\n",
    "import copy\n",
    "import json"
   ]
  },
  {
   "cell_type": "code",
   "execution_count": 2,
   "metadata": {},
   "outputs": [],
   "source": [
    "data = pd.read_csv('./avif_dump_4940.csv', encoding='utf-8', low_memory=False)"
   ]
  },
  {
   "cell_type": "code",
   "execution_count": 3,
   "metadata": {},
   "outputs": [],
   "source": [
    "data.dropna(subset=['ySquareX', 'ySquareY', 'SpeciesId'], inplace=True)"
   ]
  },
  {
   "cell_type": "code",
   "execution_count": 4,
   "metadata": {},
   "outputs": [],
   "source": [
    "data.SpeciesId = data.SpeciesId.astype(int).astype(str)"
   ]
  },
  {
   "cell_type": "code",
   "execution_count": 5,
   "metadata": {},
   "outputs": [],
   "source": [
    "data['Week'] = data.ObsDate.apply(lambda x: int(datetime.datetime.strptime(x, \"%Y-%m-%d\" ).strftime(\"%V\")))"
   ]
  },
  {
   "cell_type": "code",
   "execution_count": 6,
   "metadata": {},
   "outputs": [],
   "source": [
    "data['Square'] = data.ySquareY.astype(int).astype(str) + data.ySquareX.astype(int).astype(str)"
   ]
  },
  {
   "cell_type": "code",
   "execution_count": 7,
   "metadata": {},
   "outputs": [],
   "source": [
    "# dump species list\n",
    "with open('../speclist.js', 'w', encoding='utf-8') as f:\n",
    "    f.write('var specList = ' \n",
    "            + json.dumps(data[['SpeciesId', 'SpeciesSci', 'Species']].set_index('SpeciesId').to_dict(orient='index')) \n",
    "            + ';')"
   ]
  },
  {
   "cell_type": "code",
   "execution_count": 8,
   "metadata": {},
   "outputs": [],
   "source": [
    "out = {}\n",
    "for sq in data.Square.unique():\n",
    "    if sq not in out:\n",
    "        out[sq] = {}\n",
    "    for sp in data.SpeciesId.unique():\n",
    "        out[sq][sp] = [0] * 52\n",
    "    out[sq]['wks'] = [0] * 52"
   ]
  },
  {
   "cell_type": "code",
   "execution_count": 9,
   "metadata": {},
   "outputs": [],
   "source": [
    "for sqr in out:\n",
    "    sub = data[data.Square == sqr]\n",
    "    for w in sub.groupby(['Week']).ObsListId.unique().reset_index().values:\n",
    "        out[sqr]['wks'][w[0] - 1] = len(w[1])\n",
    "        \n",
    "    for specie in list(sub.SpeciesId.unique()):\n",
    "        for w in sub[sub.SpeciesId == specie].groupby(['Week']).ObsListId.unique().reset_index().values:\n",
    "            out[sqr][specie][w[0] - 1] = len(w[1])"
   ]
  },
  {
   "cell_type": "code",
   "execution_count": 10,
   "metadata": {},
   "outputs": [
    {
     "name": "stderr",
     "output_type": "stream",
     "text": [
      "c:\\program files\\python36\\lib\\site-packages\\ipykernel_launcher.py:6: RuntimeWarning: invalid value encountered in true_divide\n",
      "  \n"
     ]
    }
   ],
   "source": [
    "# podil druhu na listech\n",
    "for sqr in out:\n",
    "    for key in out[sqr]:\n",
    "        if key == 'wks':\n",
    "            continue\n",
    "        out[sqr][key] = list(np.divide(out[sqr][key], out[sqr]['wks']))"
   ]
  },
  {
   "cell_type": "code",
   "execution_count": 11,
   "metadata": {},
   "outputs": [],
   "source": [
    "# likvidace nanu a nekonecen\n",
    "def cln(val):\n",
    "    if np.isfinite(val) == True:\n",
    "        return val\n",
    "    else:\n",
    "        return 0\n",
    "    \n",
    "clean = np.vectorize(cln, otypes=[np.float])\n",
    "\n",
    "for sqr in out.values():\n",
    "    for key in sqr:\n",
    "        sqr[key] = list(clean(sqr[key]))"
   ]
  },
  {
   "cell_type": "code",
   "execution_count": 12,
   "metadata": {},
   "outputs": [],
   "source": [
    "#del prazdnych klicu\n",
    "out_cp = copy.deepcopy(out)\n",
    "for sqr in out_cp:\n",
    "    for key in out_cp[sqr]:\n",
    "        if key == 'wks':\n",
    "            continue\n",
    "        if sum(out_cp[sqr][key]) == 0:\n",
    "            del out[sqr][key]"
   ]
  },
  {
   "cell_type": "code",
   "execution_count": 13,
   "metadata": {},
   "outputs": [],
   "source": [
    "for sq in out:\n",
    "    tmp = out[sq]\n",
    "    for t in tmp: # Numpy JSON vohack\n",
    "        tmp[t] = list(map(float, tmp[t]))\n",
    "    with open('../stats/' + str(sq) + '.json', 'w', encoding='utf-8') as f:\n",
    "        f.write(json.dumps(tmp))"
   ]
  },
  {
   "cell_type": "code",
   "execution_count": 14,
   "metadata": {},
   "outputs": [],
   "source": [
    "stats = {'sum': 0}\n",
    "for sq in out:\n",
    "    stats[sq] = sum(out[sq]['wks'])\n",
    "    stats['sum'] += sum(out[sq]['wks'])"
   ]
  },
  {
   "cell_type": "code",
   "execution_count": 15,
   "metadata": {},
   "outputs": [],
   "source": [
    "with open('../stats/stats.js', 'w', encoding='utf-8') as f:\n",
    "    f.write('var stats = ' + json.dumps(stats) + ';')"
   ]
  },
  {
   "cell_type": "code",
   "execution_count": 16,
   "metadata": {},
   "outputs": [],
   "source": [
    "o = []\n",
    "for s in list(stats.values())[1:]:\n",
    "    o.append((s / stats['sum'])*100)"
   ]
  },
  {
   "cell_type": "code",
   "execution_count": 19,
   "metadata": {},
   "outputs": [
    {
     "data": {
      "text/plain": [
       "5.0879074756330738"
      ]
     },
     "execution_count": 19,
     "metadata": {},
     "output_type": "execute_result"
    }
   ],
   "source": [
    "np.max(o)"
   ]
  }
 ],
 "metadata": {
  "kernelspec": {
   "display_name": "Python 3",
   "language": "python",
   "name": "python3"
  },
  "language_info": {
   "codemirror_mode": {
    "name": "ipython",
    "version": 3
   },
   "file_extension": ".py",
   "mimetype": "text/x-python",
   "name": "python",
   "nbconvert_exporter": "python",
   "pygments_lexer": "ipython3",
   "version": "3.6.5"
  }
 },
 "nbformat": 4,
 "nbformat_minor": 2
}
